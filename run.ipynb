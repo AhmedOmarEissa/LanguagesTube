{
 "cells": [
  {
   "cell_type": "code",
   "execution_count": 1,
   "metadata": {},
   "outputs": [
    {
     "name": "stderr",
     "output_type": "stream",
     "text": [
      "/Users/ahmed.omar/opt/anaconda3/lib/python3.8/site-packages/pandas/core/computation/expressions.py:20: UserWarning: Pandas requires version '2.7.3' or newer of 'numexpr' (version '2.7.1' currently installed).\n",
      "  from pandas.core.computation.check import NUMEXPR_INSTALLED\n"
     ]
    }
   ],
   "source": [
    "from util import *"
   ]
  },
  {
   "cell_type": "code",
   "execution_count": 13,
   "metadata": {},
   "outputs": [
    {
     "data": {
      "text/plain": [
       "<youtube_transcript_api._transcripts.TranscriptList at 0x7f851c182fa0>"
      ]
     },
     "execution_count": 13,
     "metadata": {},
     "output_type": "execute_result"
    }
   ],
   "source": [
    "YouTubeTranscriptApi.list_transcripts('lH7vAzmmB-M')"
   ]
  },
  {
   "cell_type": "code",
   "execution_count": 35,
   "metadata": {},
   "outputs": [],
   "source": [
    "## DOWNLOAD THE VIDEO SUBTITLES\n",
    "sentence_df = pd.DataFrame()\n",
    "\n",
    "response = get_response_playlist('PLO72qiQ-gJuFzpCgQcsdd4lkulqeeBMC3') # NOS Nieuws van de Week\n",
    "\n",
    "videos = get_videos_playllist(response )\n",
    "\n",
    "columns= ['episode','start', 'text']\n",
    "\n",
    "last_10_videos = videos[:10]\n",
    "\n",
    "# # for episode in videos: \n",
    "subtitle = get_subtitle('8SUyBNbie0s')[columns]\n",
    "\n",
    "sentence_df = pd.concat([sentence_df,subtitle])\n",
    "    \n",
    "# sentence_df.to_csv('PLAeu18HndGgBK_WLjNjgJigcmVO3XDSMY.csv',index=False)"
   ]
  },
  {
   "cell_type": "code",
   "execution_count": 49,
   "metadata": {},
   "outputs": [
    {
     "data": {
      "text/plain": [
       "{'8SUyBNbie0s': '2024-05-15T13:46:07Z',\n",
       " 'N6JTI9v_6xg': '2024-05-08T13:49:45Z',\n",
       " '1PpRycJ4ZZQ': '2024-05-01T13:53:39Z',\n",
       " 'Ln4ASXeuWyU': '2024-04-24T13:54:38Z',\n",
       " 'tTuXTayL4oE': '2024-04-17T13:39:04Z',\n",
       " 'Auil2xhjM-g': '2024-04-10T13:43:59Z',\n",
       " 'R5A-EIzHYQQ': '2024-04-03T14:05:37Z',\n",
       " 'M3-nsu0cJhM': '2024-03-27T14:18:58Z',\n",
       " '-r1oAzRrRfg': '2024-03-20T15:12:02Z',\n",
       " 'Jr-1c_mAy_A': '2024-03-13T14:56:16Z',\n",
       " 'MYvBJg1WdI8': '2024-03-06T14:43:40Z',\n",
       " 'aG-vFkXAK60': '2024-02-28T15:28:10Z',\n",
       " 'pNPIOBNUQT4': '2024-02-21T15:04:07Z',\n",
       " 'bCsWEF3a_UE': '2024-02-14T14:50:35Z',\n",
       " 'G-Qa60mY-7k': '2024-02-07T15:26:45Z',\n",
       " 'tt_AuLL3_O0': '2024-01-31T14:56:08Z',\n",
       " 'yMXhdXYJRrM': '2024-01-24T15:15:25Z',\n",
       " '69sijZ1xDjI': '2024-01-24T14:46:15Z',\n",
       " 'SFhk7USSQTI': '2024-01-17T14:17:43Z',\n",
       " 'vnO6ri04-zQ': '2024-01-10T15:28:37Z',\n",
       " 'Hr6jtLrwgKQ': '2024-01-03T14:56:55Z',\n",
       " 'cLmx5KFZWOI': '2023-12-20T14:59:58Z',\n",
       " 'Slk9th1UDF8': '2023-12-13T15:15:22Z',\n",
       " 'vwJGYgPJsoY': '2023-12-06T15:03:10Z',\n",
       " 'cAdUzf5PwIg': '2023-11-29T14:59:24Z',\n",
       " 'ffdDgxreluQ': '2023-11-22T14:32:57Z',\n",
       " 'faj42RKwmss': '2023-11-15T15:20:08Z',\n",
       " 'N2c--_q83gc': '2023-11-08T15:05:50Z',\n",
       " 'rzmTE-gHcPw': '2023-11-01T15:00:03Z',\n",
       " 'SzTOBjoeZeU': '2023-10-25T14:32:48Z',\n",
       " 'iC_OJp6v8AM': '2023-10-18T14:32:15Z',\n",
       " 'DPZx6L16h2U': '2023-10-11T14:19:40Z',\n",
       " 'OkzPVPOqzPY': '2023-10-04T14:15:39Z',\n",
       " 'jdvhFixkoWk': '2023-09-27T14:14:27Z',\n",
       " 'IoVCXTffMaM': '2023-09-20T14:11:22Z',\n",
       " 'HSosweYAnsI': '2023-09-13T14:15:25Z',\n",
       " '_Mq_mtAJn1Q': '2023-09-06T13:57:06Z',\n",
       " 'GyuZuu7D_XU': '2023-07-05T15:51:03Z',\n",
       " 'Rzg5tQZx46I': '2023-06-28T13:36:19Z',\n",
       " 'YXCYUtQmE-w': '2023-06-21T15:00:32Z',\n",
       " 'IzMLYxqJ1oU': '2023-06-14T14:05:46Z',\n",
       " 'Qc63LE9R5Hw': '2023-06-07T13:51:20Z',\n",
       " 'Md-eoSXHRlU': '2023-05-31T13:59:39Z',\n",
       " 'FNASvhncqRc': '2023-05-24T14:17:04Z',\n",
       " '7RiAh7n8tQg': '2023-05-10T14:11:46Z',\n",
       " 'TOCqnCTcFwc': '2023-05-03T13:51:30Z',\n",
       " 'zRMI9Ru0qoM': '2023-04-26T14:11:52Z',\n",
       " 'X29_FULOJUM': '2023-04-19T14:10:52Z',\n",
       " 'hwHCnwVIyrc': '2023-04-12T14:03:17Z',\n",
       " '-GficXgHcvQ': '2023-04-05T13:42:04Z'}"
      ]
     },
     "execution_count": 49,
     "metadata": {},
     "output_type": "execute_result"
    }
   ],
   "source": []
  },
  {
   "cell_type": "code",
   "execution_count": 45,
   "metadata": {},
   "outputs": [
    {
     "data": {
      "text/html": [
       "<div>\n",
       "<style scoped>\n",
       "    .dataframe tbody tr th:only-of-type {\n",
       "        vertical-align: middle;\n",
       "    }\n",
       "\n",
       "    .dataframe tbody tr th {\n",
       "        vertical-align: top;\n",
       "    }\n",
       "\n",
       "    .dataframe thead th {\n",
       "        text-align: right;\n",
       "    }\n",
       "</style>\n",
       "<table border=\"1\" class=\"dataframe\">\n",
       "  <thead>\n",
       "    <tr style=\"text-align: right;\">\n",
       "      <th></th>\n",
       "      <th>text</th>\n",
       "      <th>start</th>\n",
       "      <th>duration</th>\n",
       "      <th>episode</th>\n",
       "    </tr>\n",
       "  </thead>\n",
       "  <tbody>\n",
       "    <tr>\n",
       "      <th>0</th>\n",
       "      <td>Dit is het Nieuws van de Week,\\neen journaal v...</td>\n",
       "      <td>9.038</td>\n",
       "      <td>4.654</td>\n",
       "      <td>https://www.youtube.com/watch?v=8SUyBNbie0s</td>\n",
       "    </tr>\n",
       "    <tr>\n",
       "      <th>1</th>\n",
       "      <td>En ik ben Afke Boven.</td>\n",
       "      <td>14.115</td>\n",
       "      <td>1.616</td>\n",
       "      <td>https://www.youtube.com/watch?v=8SUyBNbie0s</td>\n",
       "    </tr>\n",
       "    <tr>\n",
       "      <th>2</th>\n",
       "      <td>In dit journaal leggen we uit waarom mensen\\ng...</td>\n",
       "      <td>15.846</td>\n",
       "      <td>5.000</td>\n",
       "      <td>https://www.youtube.com/watch?v=8SUyBNbie0s</td>\n",
       "    </tr>\n",
       "    <tr>\n",
       "      <th>3</th>\n",
       "      <td>We vertellen over Joost Klein, die met zijn\\nE...</td>\n",
       "      <td>21.538</td>\n",
       "      <td>4.885</td>\n",
       "      <td>https://www.youtube.com/watch?v=8SUyBNbie0s</td>\n",
       "    </tr>\n",
       "    <tr>\n",
       "      <th>4</th>\n",
       "      <td>...aan de finale van het Songfestival.</td>\n",
       "      <td>26.500</td>\n",
       "      <td>1.962</td>\n",
       "      <td>https://www.youtube.com/watch?v=8SUyBNbie0s</td>\n",
       "    </tr>\n",
       "    <tr>\n",
       "      <th>...</th>\n",
       "      <td>...</td>\n",
       "      <td>...</td>\n",
       "      <td>...</td>\n",
       "      <td>...</td>\n",
       "    </tr>\n",
       "    <tr>\n",
       "      <th>146</th>\n",
       "      <td>...waarom er demonstraties bij universiteiten\\...</td>\n",
       "      <td>603.154</td>\n",
       "      <td>3.692</td>\n",
       "      <td>https://www.youtube.com/watch?v=8SUyBNbie0s</td>\n",
       "    </tr>\n",
       "    <tr>\n",
       "      <th>147</th>\n",
       "      <td>Dat Joost Klein niet meedeed aan de finale van...</td>\n",
       "      <td>607.231</td>\n",
       "      <td>5.115</td>\n",
       "      <td>https://www.youtube.com/watch?v=8SUyBNbie0s</td>\n",
       "    </tr>\n",
       "    <tr>\n",
       "      <th>148</th>\n",
       "      <td>En we legden uit waarom\\nkermiseigenaren het z...</td>\n",
       "      <td>612.615</td>\n",
       "      <td>4.116</td>\n",
       "      <td>https://www.youtube.com/watch?v=8SUyBNbie0s</td>\n",
       "    </tr>\n",
       "    <tr>\n",
       "      <th>149</th>\n",
       "      <td>Volgende week is er weer een journaal van de\\n...</td>\n",
       "      <td>617.269</td>\n",
       "      <td>3.616</td>\n",
       "      <td>https://www.youtube.com/watch?v=8SUyBNbie0s</td>\n",
       "    </tr>\n",
       "    <tr>\n",
       "      <th>150</th>\n",
       "      <td>Tot dan!\\n</td>\n",
       "      <td>621.346</td>\n",
       "      <td>0.923</td>\n",
       "      <td>https://www.youtube.com/watch?v=8SUyBNbie0s</td>\n",
       "    </tr>\n",
       "  </tbody>\n",
       "</table>\n",
       "<p>151 rows × 4 columns</p>\n",
       "</div>"
      ],
      "text/plain": [
       "                                                  text    start  duration  \\\n",
       "0    Dit is het Nieuws van de Week,\\neen journaal v...    9.038     4.654   \n",
       "1                                En ik ben Afke Boven.   14.115     1.616   \n",
       "2    In dit journaal leggen we uit waarom mensen\\ng...   15.846     5.000   \n",
       "3    We vertellen over Joost Klein, die met zijn\\nE...   21.538     4.885   \n",
       "4               ...aan de finale van het Songfestival.   26.500     1.962   \n",
       "..                                                 ...      ...       ...   \n",
       "146  ...waarom er demonstraties bij universiteiten\\...  603.154     3.692   \n",
       "147  Dat Joost Klein niet meedeed aan de finale van...  607.231     5.115   \n",
       "148  En we legden uit waarom\\nkermiseigenaren het z...  612.615     4.116   \n",
       "149  Volgende week is er weer een journaal van de\\n...  617.269     3.616   \n",
       "150                                         Tot dan!\\n  621.346     0.923   \n",
       "\n",
       "                                         episode  \n",
       "0    https://www.youtube.com/watch?v=8SUyBNbie0s  \n",
       "1    https://www.youtube.com/watch?v=8SUyBNbie0s  \n",
       "2    https://www.youtube.com/watch?v=8SUyBNbie0s  \n",
       "3    https://www.youtube.com/watch?v=8SUyBNbie0s  \n",
       "4    https://www.youtube.com/watch?v=8SUyBNbie0s  \n",
       "..                                           ...  \n",
       "146  https://www.youtube.com/watch?v=8SUyBNbie0s  \n",
       "147  https://www.youtube.com/watch?v=8SUyBNbie0s  \n",
       "148  https://www.youtube.com/watch?v=8SUyBNbie0s  \n",
       "149  https://www.youtube.com/watch?v=8SUyBNbie0s  \n",
       "150  https://www.youtube.com/watch?v=8SUyBNbie0s  \n",
       "\n",
       "[151 rows x 4 columns]"
      ]
     },
     "execution_count": 45,
     "metadata": {},
     "output_type": "execute_result"
    }
   ],
   "source": [
    "get_subtitle('8SUyBNbie0s')"
   ]
  },
  {
   "cell_type": "code",
   "execution_count": 41,
   "metadata": {},
   "outputs": [
    {
     "name": "stdout",
     "output_type": "stream",
     "text": [
      "1\n"
     ]
    }
   ],
   "source": [
    "if  subtitle is not None:\n",
    "    print(1)"
   ]
  },
  {
   "cell_type": "code",
   "execution_count": 18,
   "metadata": {},
   "outputs": [],
   "source": [
    "## SEE COMMON WORDS \n",
    "\n",
    "words = sentence_df.text.apply(remove_punc).str.lower().str.split()\n",
    "\n",
    "words_list = []\n",
    "## Convert list column to a list\n",
    "for i in words: words_list += i \n",
    "\n",
    "words_counter = Counter(words_list)\n"
   ]
  },
  {
   "cell_type": "code",
   "execution_count": 19,
   "metadata": {},
   "outputs": [],
   "source": [
    "count_df = pd.DataFrame(\n",
    "    {\n",
    "        'word':words_counter.keys(),\n",
    "        'number':words_counter.values(),\n",
    "    })"
   ]
  },
  {
   "cell_type": "code",
   "execution_count": 23,
   "metadata": {},
   "outputs": [
    {
     "data": {
      "text/html": [
       "<div>\n",
       "<style scoped>\n",
       "    .dataframe tbody tr th:only-of-type {\n",
       "        vertical-align: middle;\n",
       "    }\n",
       "\n",
       "    .dataframe tbody tr th {\n",
       "        vertical-align: top;\n",
       "    }\n",
       "\n",
       "    .dataframe thead th {\n",
       "        text-align: right;\n",
       "    }\n",
       "</style>\n",
       "<table border=\"1\" class=\"dataframe\">\n",
       "  <thead>\n",
       "    <tr style=\"text-align: right;\">\n",
       "      <th></th>\n",
       "      <th>word</th>\n",
       "      <th>number</th>\n",
       "    </tr>\n",
       "  </thead>\n",
       "  <tbody>\n",
       "    <tr>\n",
       "      <th>5</th>\n",
       "      <td>de</td>\n",
       "      <td>90</td>\n",
       "    </tr>\n",
       "    <tr>\n",
       "      <th>2</th>\n",
       "      <td>het</td>\n",
       "      <td>38</td>\n",
       "    </tr>\n",
       "    <tr>\n",
       "      <th>110</th>\n",
       "      <td>dat</td>\n",
       "      <td>38</td>\n",
       "    </tr>\n",
       "    <tr>\n",
       "      <th>13</th>\n",
       "      <td>en</td>\n",
       "      <td>37</td>\n",
       "    </tr>\n",
       "    <tr>\n",
       "      <th>4</th>\n",
       "      <td>van</td>\n",
       "      <td>33</td>\n",
       "    </tr>\n",
       "    <tr>\n",
       "      <th>...</th>\n",
       "      <td>...</td>\n",
       "      <td>...</td>\n",
       "    </tr>\n",
       "    <tr>\n",
       "      <th>217</th>\n",
       "      <td>gehouden</td>\n",
       "      <td>3</td>\n",
       "    </tr>\n",
       "    <tr>\n",
       "      <th>8</th>\n",
       "      <td>journaal</td>\n",
       "      <td>3</td>\n",
       "    </tr>\n",
       "    <tr>\n",
       "      <th>218</th>\n",
       "      <td>zweden</td>\n",
       "      <td>3</td>\n",
       "    </tr>\n",
       "    <tr>\n",
       "      <th>129</th>\n",
       "      <td>omdat</td>\n",
       "      <td>3</td>\n",
       "    </tr>\n",
       "    <tr>\n",
       "      <th>397</th>\n",
       "      <td>mn</td>\n",
       "      <td>3</td>\n",
       "    </tr>\n",
       "  </tbody>\n",
       "</table>\n",
       "<p>100 rows × 2 columns</p>\n",
       "</div>"
      ],
      "text/plain": [
       "         word  number\n",
       "5          de      90\n",
       "2         het      38\n",
       "110       dat      38\n",
       "13         en      37\n",
       "4         van      33\n",
       "..        ...     ...\n",
       "217  gehouden       3\n",
       "8    journaal       3\n",
       "218    zweden       3\n",
       "129     omdat       3\n",
       "397        mn       3\n",
       "\n",
       "[100 rows x 2 columns]"
      ]
     },
     "execution_count": 23,
     "metadata": {},
     "output_type": "execute_result"
    }
   ],
   "source": [
    "count_df.sort_values('number',ascending=False).head(100)"
   ]
  },
  {
   "cell_type": "code",
   "execution_count": null,
   "metadata": {},
   "outputs": [],
   "source": []
  }
 ],
 "metadata": {
  "interpreter": {
   "hash": "40d3a090f54c6569ab1632332b64b2c03c39dcf918b08424e98f38b5ae0af88f"
  },
  "kernelspec": {
   "display_name": "Python 3.8.5 64-bit ('base': conda)",
   "language": "python",
   "name": "python3"
  },
  "language_info": {
   "codemirror_mode": {
    "name": "ipython",
    "version": 3
   },
   "file_extension": ".py",
   "mimetype": "text/x-python",
   "name": "python",
   "nbconvert_exporter": "python",
   "pygments_lexer": "ipython3",
   "version": "3.8.5"
  },
  "orig_nbformat": 4
 },
 "nbformat": 4,
 "nbformat_minor": 2
}
