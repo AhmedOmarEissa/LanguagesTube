{
 "cells": [
  {
   "cell_type": "code",
   "execution_count": 2,
   "metadata": {},
   "outputs": [],
   "source": [
    "from util import *"
   ]
  },
  {
   "cell_type": "code",
   "execution_count": 16,
   "metadata": {},
   "outputs": [],
   "source": [
    "## DOWNLOAD THE VIDEO SUBTITLES\n",
    "sentence_df = pd.DataFrame()\n",
    "\n",
    "response = get_response_playlist('PLAeu18HndGgBK_WLjNjgJigcmVO3XDSMY')\n",
    "videos = get_videos_playllist(response )\n",
    "\n",
    "columns= ['episode','start', 'text']\n",
    "\n",
    "for episode in videos: \n",
    "    sentence_df = pd.concat([sentence_df,get_subtitle(episode)[columns]])\n",
    "    \n",
    "sentence_df.to_csv('PLAeu18HndGgBK_WLjNjgJigcmVO3XDSMY.csv',index=False)"
   ]
  },
  {
   "cell_type": "code",
   "execution_count": 24,
   "metadata": {},
   "outputs": [],
   "source": [
    "## SEE COMMON WORDS \n",
    "\n",
    "words = sentence_df.text.apply(remove_punc).str.lower().str.split()\n",
    "\n",
    "words_list = []\n",
    "## Convert list column to a list\n",
    "for i in words: words_list += i \n",
    "\n",
    "words_counter = Counter(words_list)\n"
   ]
  },
  {
   "cell_type": "code",
   "execution_count": 51,
   "metadata": {},
   "outputs": [],
   "source": [
    "count_df = pd.DataFrame(\n",
    "    {\n",
    "        'word':words_counter.keys(),\n",
    "        'number':words_counter.values(),\n",
    "    })"
   ]
  },
  {
   "cell_type": "code",
   "execution_count": 56,
   "metadata": {},
   "outputs": [],
   "source": [
    "count_df.to_clipboard()"
   ]
  },
  {
   "cell_type": "code",
   "execution_count": null,
   "metadata": {},
   "outputs": [],
   "source": []
  }
 ],
 "metadata": {
  "interpreter": {
   "hash": "40d3a090f54c6569ab1632332b64b2c03c39dcf918b08424e98f38b5ae0af88f"
  },
  "kernelspec": {
   "display_name": "Python 3.8.5 64-bit ('base': conda)",
   "language": "python",
   "name": "python3"
  },
  "language_info": {
   "codemirror_mode": {
    "name": "ipython",
    "version": 3
   },
   "file_extension": ".py",
   "mimetype": "text/x-python",
   "name": "python",
   "nbconvert_exporter": "python",
   "pygments_lexer": "ipython3",
   "version": "3.8.5"
  },
  "orig_nbformat": 4
 },
 "nbformat": 4,
 "nbformat_minor": 2
}
