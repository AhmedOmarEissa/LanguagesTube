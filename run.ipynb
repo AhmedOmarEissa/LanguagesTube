{
 "cells": [
  {
   "cell_type": "code",
   "execution_count": 27,
   "metadata": {},
   "outputs": [],
   "source": [
    "from util import *"
   ]
  },
  {
   "cell_type": "code",
   "execution_count": 28,
   "metadata": {},
   "outputs": [],
   "source": [
    "## DOWNLOAD THE VIDEO SUBTITLES\n",
    "\n",
    "response = get_response('PLAeu18HndGgBK_WLjNjgJigcmVO3XDSMY')\n",
    "videos = get_videos(response )\n",
    "\n",
    "wordsdf = pd.DataFrame()\n",
    "columns= ['episode','start', 'text']\n",
    "\n",
    "episodes = videos\n",
    "for episode in episodes: \n",
    "\n",
    "    dict_sentence = YouTubeTranscriptApi.get_transcript(episode,languages =['nl'])\n",
    "    new_episode = pd.DataFrame(dict_sentence)\n",
    "    new_episode['episode'] = 'https://www.youtube.com/watch?v=' + episode \n",
    "\n",
    "    wordsdf = pd.concat([wordsdf,new_episode[columns]])\n",
    "    \n",
    "wordsdf.to_csv('PLAeu18HndGgBK_WLjNjgJigcmVO3XDSMY.csv',index=False)"
   ]
  },
  {
   "cell_type": "code",
   "execution_count": 29,
   "metadata": {},
   "outputs": [
    {
     "data": {
      "text/html": [
       "<div>\n",
       "<style scoped>\n",
       "    .dataframe tbody tr th:only-of-type {\n",
       "        vertical-align: middle;\n",
       "    }\n",
       "\n",
       "    .dataframe tbody tr th {\n",
       "        vertical-align: top;\n",
       "    }\n",
       "\n",
       "    .dataframe thead th {\n",
       "        text-align: right;\n",
       "    }\n",
       "</style>\n",
       "<table border=\"1\" class=\"dataframe\">\n",
       "  <thead>\n",
       "    <tr style=\"text-align: right;\">\n",
       "      <th></th>\n",
       "      <th>episode</th>\n",
       "      <th>start</th>\n",
       "      <th>text</th>\n",
       "    </tr>\n",
       "  </thead>\n",
       "  <tbody>\n",
       "    <tr>\n",
       "      <th>0</th>\n",
       "      <td>https://www.youtube.com/watch?v=aGHsDnebiIk</td>\n",
       "      <td>0.000</td>\n",
       "      <td>Wie is er kleiner? Veggie of Nala?</td>\n",
       "    </tr>\n",
       "    <tr>\n",
       "      <th>1</th>\n",
       "      <td>https://www.youtube.com/watch?v=aGHsDnebiIk</td>\n",
       "      <td>5.102</td>\n",
       "      <td>Nala is kleiner dan Veggie.</td>\n",
       "    </tr>\n",
       "    <tr>\n",
       "      <th>2</th>\n",
       "      <td>https://www.youtube.com/watch?v=aGHsDnebiIk</td>\n",
       "      <td>8.869</td>\n",
       "      <td>En inclusief dit katje. Welke is er dan het kl...</td>\n",
       "    </tr>\n",
       "    <tr>\n",
       "      <th>3</th>\n",
       "      <td>https://www.youtube.com/watch?v=aGHsDnebiIk</td>\n",
       "      <td>14.265</td>\n",
       "      <td>Ikke ikke, ikke, ikke! Het witte kat je is het...</td>\n",
       "    </tr>\n",
       "    <tr>\n",
       "      <th>4</th>\n",
       "      <td>https://www.youtube.com/watch?v=aGHsDnebiIk</td>\n",
       "      <td>23.970</td>\n",
       "      <td>Hallo allemaal, Dutchies to be!</td>\n",
       "    </tr>\n",
       "  </tbody>\n",
       "</table>\n",
       "</div>"
      ],
      "text/plain": [
       "                                       episode   start  \\\n",
       "0  https://www.youtube.com/watch?v=aGHsDnebiIk   0.000   \n",
       "1  https://www.youtube.com/watch?v=aGHsDnebiIk   5.102   \n",
       "2  https://www.youtube.com/watch?v=aGHsDnebiIk   8.869   \n",
       "3  https://www.youtube.com/watch?v=aGHsDnebiIk  14.265   \n",
       "4  https://www.youtube.com/watch?v=aGHsDnebiIk  23.970   \n",
       "\n",
       "                                                text  \n",
       "0                 Wie is er kleiner? Veggie of Nala?  \n",
       "1                        Nala is kleiner dan Veggie.  \n",
       "2  En inclusief dit katje. Welke is er dan het kl...  \n",
       "3  Ikke ikke, ikke, ikke! Het witte kat je is het...  \n",
       "4                    Hallo allemaal, Dutchies to be!  "
      ]
     },
     "execution_count": 29,
     "metadata": {},
     "output_type": "execute_result"
    }
   ],
   "source": [
    "wordsdf.head()"
   ]
  },
  {
   "cell_type": "code",
   "execution_count": 31,
   "metadata": {},
   "outputs": [
    {
     "data": {
      "text/plain": [
       "0                     Wie is er kleiner? Veggie of Nala?\n",
       "1                            Nala is kleiner dan Veggie.\n",
       "2      En inclusief dit katje. Welke is er dan het kl...\n",
       "3      Ikke ikke, ikke, ikke! Het witte kat je is het...\n",
       "4                        Hallo allemaal, Dutchies to be!\n",
       "                             ...                        \n",
       "179    En verder: als je nog meer Nederlands met mij ...\n",
       "180                              dan kun je dat nu doen!\n",
       "181    En als je deze video leuk vond, geef hem dan e...\n",
       "182    En dan zie ik jullie weer heel gauw in de volg...\n",
       "183                                                Doei!\n",
       "Name: text, Length: 3587, dtype: object"
      ]
     },
     "execution_count": 31,
     "metadata": {},
     "output_type": "execute_result"
    }
   ],
   "source": [
    "## SEE COMMON WORDS \n",
    "wordsdf.text"
   ]
  },
  {
   "cell_type": "code",
   "execution_count": null,
   "metadata": {},
   "outputs": [],
   "source": [
    "## View Topic per episode"
   ]
  }
 ],
 "metadata": {
  "interpreter": {
   "hash": "40d3a090f54c6569ab1632332b64b2c03c39dcf918b08424e98f38b5ae0af88f"
  },
  "kernelspec": {
   "display_name": "Python 3.8.5 64-bit ('base': conda)",
   "language": "python",
   "name": "python3"
  },
  "language_info": {
   "codemirror_mode": {
    "name": "ipython",
    "version": 3
   },
   "file_extension": ".py",
   "mimetype": "text/x-python",
   "name": "python",
   "nbconvert_exporter": "python",
   "pygments_lexer": "ipython3",
   "version": "3.8.5"
  },
  "orig_nbformat": 4
 },
 "nbformat": 4,
 "nbformat_minor": 2
}
