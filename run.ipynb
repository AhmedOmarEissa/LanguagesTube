{
 "cells": [
  {
   "cell_type": "code",
   "execution_count": 1,
   "metadata": {},
   "outputs": [
    {
     "name": "stderr",
     "output_type": "stream",
     "text": [
      "/Users/ahmed.omar/opt/anaconda3/lib/python3.8/site-packages/pandas/core/computation/expressions.py:20: UserWarning: Pandas requires version '2.7.3' or newer of 'numexpr' (version '2.7.1' currently installed).\n",
      "  from pandas.core.computation.check import NUMEXPR_INSTALLED\n"
     ]
    }
   ],
   "source": [
    "from util import *"
   ]
  },
  {
   "cell_type": "code",
   "execution_count": 13,
   "metadata": {},
   "outputs": [
    {
     "data": {
      "text/plain": [
       "<youtube_transcript_api._transcripts.TranscriptList at 0x7f851c182fa0>"
      ]
     },
     "execution_count": 13,
     "metadata": {},
     "output_type": "execute_result"
    }
   ],
   "source": [
    "YouTubeTranscriptApi.list_transcripts('lH7vAzmmB-M')"
   ]
  },
  {
   "cell_type": "code",
   "execution_count": 29,
   "metadata": {},
   "outputs": [],
   "source": [
    "## DOWNLOAD THE VIDEO SUBTITLES\n",
    "sentence_df = pd.DataFrame()\n",
    "\n",
    "response = get_response_playlist('PLO72qiQ-gJuFzpCgQcsdd4lkulqeeBMC3') # NOS Nieuws van de Week\n",
    "\n",
    "videos = get_videos_playllist(response )\n",
    "\n",
    "columns= ['episode','start', 'text']\n",
    "\n",
    "last_10_videos = videos[:10]\n",
    "\n",
    "# # for episode in videos: \n",
    "subtitle = get_subtitle('8SUyBNbie0s')[columns]\n",
    "\n",
    "sentence_df = pd.concat([sentence_df,subtitle])\n",
    "    \n",
    "# sentence_df.to_csv('PLAeu18HndGgBK_WLjNjgJigcmVO3XDSMY.csv',index=False)"
   ]
  },
  {
   "cell_type": "code",
   "execution_count": 27,
   "metadata": {},
   "outputs": [],
   "source": [
    "# sentence_df.to_csv('PLAeu18HndGgBK_WLjNjgJigcmVO3XDSMY.csv',index=False)\n"
   ]
  },
  {
   "cell_type": "code",
   "execution_count": 33,
   "metadata": {},
   "outputs": [
    {
     "data": {
      "text/plain": [
       "\"Dit is het Nieuws van de Week,\\neen journaal van de NOS in makkelijke taal.\\\\NEn ik ben Afke Boven.\\\\NIn dit journaal leggen we uit waarom mensen\\ngingen demonstreren bij universiteiten.\\\\NWe vertellen over Joost Klein, die met zijn\\nEuropa-pa liedje niet mee mocht doen...\\\\N...aan de finale van het Songfestival.\\\\NEn we hebben nieuws over kermissen.\\\\NHet wordt steeds\\nduurder om daar naartoe te gaan.\\\\NIn verschillende steden in Nederland zijn\\nprotesten geweest bij universiteiten.\\\\NMensen voeren actie tegen de oorlog in Gaza.\\\\NOp sommige plekken werd het erg gewelddadig.\\nDe politie heeft de acties daarom gestopt.\\\\NDuizenden studenten, leraren en andere mensen\\nhebben gedemonstreerd.\\\\NZoals hier, bij de Universiteit van Amsterdam.\\\\NZe zwaaien met de Palestijnse vlag.\\\\NSommigen\\nhebben typische Palestijnse sjaals om.\\\\NEn ze roepen en zingen over Gaza.\\\\NEen deel van de actievoerders liet het hierbij.\\\\NAnderen gingen door.\\\\NZe zijn bij gebouwen van\\nde universiteit naar binnen gegaan.\\\\NEr zijn tentjes neergezet en ook\\nspullen van de universiteit kapotgemaakt.\\\\NHet werd zelfs zo erg\\ndat de politie de acties stopte.\\\\NDe school is hierna\\neen paar dagen dicht gegaan.\\\\NHet was te onveilig,\\nzei de universiteit.\\\\NDe demonstranten zijn dus boos\\nover de oorlog die bezig is in Gaza.\\\\NGaza ligt bij Israël.\\\\NHet leger van Israël\\nvalt in Gaza veel plekken aan...\\\\N...omdat ze terroristen van de groep Hamas\\nwillen doden.\\\\NDie eerder aanslagen\\npleegden in Israël.\\\\NDe aanvallen van Israël duren al zeven maanden.\\\\NZe gooien bommen op gebouwen.\\\\NHele steden zijn\\ndaardoor verwoest.\\\\NEr is veel honger.\\\\NEn al meer dan 35.000 bewoners\\nvan Gaza zijn doodgegaan door de oorlog.\\\\NDe actievoerders willen\\ndat de oorlog zo snel mogelijk stopt.\\\\NZe laten zien dat ze de\\ninwoners van Gaza steunen.\\\\NEn ze willen ook dat hun universiteit stopt met\\nsamenwerken met scholen en bedrijven in Israël.\\\\NZe vinden het belangrijk dat de universiteiten\\nin Nederland op geen enkele manier...\\\\N...iets te maken hebben met de oorlog.\\\\NDe demonstraties zijn al\\nmeer dan een week bezig.\\\\NOp verschillende plekken,\\nbij meerdere universiteiten.\\\\NOp de meeste plekken ging dat rustig.\\\\NMaar in Amsterdam zijn veel actievoerders\\nboos over de manier waarop de politie ingrijpt.\\\\NMaar in Amsterdam zijn veel actievoerders\\nboos over de manier waarop de politie ingrijpt.\\\\NZoals hier, bij een ander gebouw van de\\nUniversiteit van Amsterdam.\\\\NDemonstranten hadden tenten\\nneergezet voor de ingangen.\\\\NEn ze maakten stapels met\\nbouwmateriaal.\\\\NDe universiteit wilde dat ze stopten, omdat er\\ndingen vernield zijn en het onveilig werd.\\\\NAgenten van de politie\\nhebben daar toen voor gezorgd.\\\\NDaarbij ontstonden gevechten en zijn mensen\\ngewond geraakt.\\\\NVolgens de demonstranten was de reactie van de\\npolitie veel te heftig.\\\\NZe willen blijven protesteren om aandacht te\\nvragen voor de oorlog in Gaza.\\\\NDit weekend was de grote finale van het\\nEurovisie Songfestival.\\\\NMaar Nederland deed niet mee.\\\\NDe artiest die voor Nederland zou optreden,\\nJoost Klein, werd namelijk gediskwalificeerd.\\\\NHet Songfestival werd\\ndit jaar gehouden in Zweden.\\\\NIn de halve finale was Joost\\nnog te zien met zijn nummer Europapa.\\\\NMaar na dat optreden gebeurde\\ner iets tussen Joost...\\\\N...en een cameravrouw die\\nbij het Songfestival werkt.\\\\NZij zou hem gefilmd hebben,\\nterwijl hij dat niet wilde.\\\\NHij zou haar toen hebben bedreigd.\\\\NIemand van het team van Joost\\nvertelde dat aan journalisten.\\\\NEr heeft afgelopen donderdag na de tweede halve\\nfinale een incident plaatsgevonden.\\\\NOndanks de gemaakte afspraken dat Joost niet\\ngefilmd zou worden...\\\\N...werd hij toch gefilmd.\\\\NBij het verlaten van het podium\\nstond een cameravrouw hem op te wachten.\\\\NEn hij heeft die cameravrouw meerdere keren\\nverzocht hem niet te filmen.\\\\NZe ging daar toch mee door. En toen heeft hij een\\ndreigende beweging gemaakt naar de camera.\\\\NZonder haar overigens aan te raken.\\\\NHet Songfestival besloot dat Joost helemaal\\nniet meer mee mocht doen aan de finale.\\\\NHet is voor het eerst ooit dat de organisatie\\nzo'n zware straf oplegt aan een deelnemer.\\\\NVolgens het Nederlandse team\\nis de straf veel te hoog.\\\\NBij de finale van het Songfestival geeft de\\njury van ieder land punten aan de deelnemers.\\\\NOnze 12 punten gaan naar...\\\\NZwitserland!\\\\NDe Nederlandse jury gaf wel punten.\\\\NMaar wilde niet meer op\\ntelevisie komen.\\\\NDat deden ze om Joost te steunen.\\\\NDaarom moest de baas van het Songfestival zelf\\nvertellen welke punten Nederland gaf.\\\\NZodra hij in beeld kwam, lieten boze fans\\nin de zaal van zich horen.\\\\NDe Nederlandse commentatoren\\nhoorden dat ook in de zaal.\\\\NEr wordt boe geroepen.\\n-Ja.\\\\NHoor je dat?\\n-Ja.\\\\NHeel hard.\\\\NDat heeft te maken met\\nde uitsluiting van Nederland.\\\\NEn hard boe geroepen ook, en terecht.\\\\NNederlandse fans die bij het Songfestival in\\nZweden waren, zijn erg teleurgesteld.\\\\NDat vertelden ze bij terugkomst op het\\nvliegveld in Nederland.\\\\NJa ik ben enorm teleurgesteld,\\nik leef voor het Songfestival.\\\\NIk heb alle voorrondes voor alle landen ook het\\nafgelopen half jaar gevolgd.\\\\NEn ja nu, ik moet echt mezelf even resetten.\\\\NIk heb ook gezegd:\\nik moet gewoon een nieuwe hobby gaan zoeken.\\\\NJa supertrots, we zijn nog steeds trots op hem.\\\\NMaar hoe hij behandeld is,\\ndat vind ik niet helemaal kunnen.\\\\NWat er precies is gebeurd tussen Joost en de\\ncameravrouw, is niet duidelijk.\\\\NIn Zweden wordt dat de komende tijd onderzocht.\\nDe zanger heeft zelf nog niet gereageerd.\\\\NWe zouden het bijna vergeten...\\\\N...maar er was natuurlijk\\ngewoon een winnaar van het Songfestival:\\\\NZwitserland.\\\\NZanger Nemo won met het nummer 'The Code'.\\\\NOp veel plekken in Nederland\\nwordt een kermis georganiseerd.\\\\NMaar naar de kermis gaan wordt steeds duurder.\\\\NEn dat merken de bezoekers\\nén de kermiseigenaren.\\\\NVan april tot en met oktober zijn er kermissen\\nin Nederlandse steden en dorpen.\\\\NEr staan attracties,\\nzoals botsauto's of de spin.\\\\NOok is er zoals altijd zoet eten te koop.\\\\NDe kermis bestaat al\\nzo'n duizend jaar in Nederland.\\\\NVaak werken hele families op de kermis,\\nzoals bij deze vrouw.\\\\NHaar ouders werkten\\naltijd op de kermis en zij ging mee.\\\\NNu heeft ze zelf ook een\\nkermisattractie, vertelt ze.\\\\NMijn vader en moeder deden dit eigenlijk al, ik\\nben altijd meegegaan met mijn vader en moeder.\\\\NVan kleins af aan.\\\\NIk ben ook dit jaar begonnen voor m'n eigen.\\\\NIk doe m'n vader en moeder helpen, m'n vader en\\nmoeder helpen mij nog steeds.\\\\NIk ben zelf\\nbegonnen met een schiettent.\\\\NDe kermissen worden dus steeds duurder.\\\\NDat komt doordat kermiseigenaren steeds meer\\nmoeten doen om het veilig te houden.\\\\NDat kost geld en daarom moeten bezoekers meer\\nbetalen voor een attractie.\\\\NDe beveiliging is nodig, omdat\\njongeren vaker voor problemen zorgen.\\\\NEr wordt gevochten, ingebroken en spullen\\nworden kapot gemaakt.\\\\NDe kermis is voor mensen van alle leeftijden.\\nDaarom is veiligheid belangrijk.\\\\NDat vertelt een man die\\nwerkt voor de vereniging van kermiseigenaren.\\\\NHet probleem op de kermis op dit\\nmoment is dat er overlast aan het komen is.\\\\NEn dat vinden we ontzettend vervelend.\\\\NWant een kermis is altijd\\ntoegankelijk geweest voor jong en oud.\\\\NEn je moet daar veilig kunnen rondlopen.\\\\NDe problemen kunnen ervoor zorgen dat er\\nminder mensen naar de kermis komen.\\\\NHoe meer mensen ruzie gaan maken,\\nhoe slechter het bedrijf loopt.\\\\NWant mensen willen zo snel\\nmogelijk het terrein af.\\\\NKermiseigenaren nemen allerlei maatregelen om\\nde veiligheid te verbeteren.\\\\NZo hangen er borden met regels.\\nDelen van de kermis zijn afgesloten met hekken.\\\\NEn het terrein wordt in\\nde gaten gehouden met camera's.\\\\NOok worden er beveiligers ingehuurd.\\\\NDie zie je ook rondlopen, die kun je ook herkennen.\\\\NEn je kan er ook op afstappen,\\nals je ergens jezelf niet veilig voelt.\\\\NDat je even op die mensen afstapt om te vragen of ze\\neven kunnen komen kijken wat er aan de hand is.\\\\NDe maatregelen zorgen ervoor dat de kermis\\nduurder wordt voor bezoekers.\\\\NEen dag naar de kermis kost dan net zo veel\\ngeld als een dag naar het pretpark.\\\\NVertellen deze kinderen.\\\\NEen ritje in de achtbaan,\\nkost al gauw zes of zeven euro.\\\\NEn dat vind ik echt heel veel geld.\\nDat is meer dan mijn zakgeld in een week.\\\\NDus ik vind dat dat echt veel minder moet worden.\\\\NIk denk dat als je een dagje hier naar de\\nkermis gaat...\\\\N...dat je misschien hetzelfde kwijt\\nbent als Walibi ofzo.\\\\NDe attracties zijn dus duurder geworden.\\\\NDe mensen die bij de kermis werken hopen dat de\\nbezoekers blijven komen.\\\\NEn dat de kermissen\\nnog lang kunnen blijven bestaan.\\\\NIn deze uitzending vertelden we...\\\\N...waarom er demonstraties bij universiteiten\\nworden gehouden.\\\\NDat Joost Klein niet meedeed aan de finale van\\nhet Eurovisie Songfestival.\\\\NEn we legden uit waarom\\nkermiseigenaren het zwaar hebben.\\\\NVolgende week is er weer een journaal van de\\nNOS in makkelijke taal.\\\\NTot dan!\\n\""
      ]
     },
     "execution_count": 33,
     "metadata": {},
     "output_type": "execute_result"
    }
   ],
   "source": [
    "' '.join(subtitle.text)"
   ]
  },
  {
   "cell_type": "code",
   "execution_count": 18,
   "metadata": {},
   "outputs": [],
   "source": [
    "## SEE COMMON WORDS \n",
    "\n",
    "words = sentence_df.text.apply(remove_punc).str.lower().str.split()\n",
    "\n",
    "words_list = []\n",
    "## Convert list column to a list\n",
    "for i in words: words_list += i \n",
    "\n",
    "words_counter = Counter(words_list)\n"
   ]
  },
  {
   "cell_type": "code",
   "execution_count": 19,
   "metadata": {},
   "outputs": [],
   "source": [
    "count_df = pd.DataFrame(\n",
    "    {\n",
    "        'word':words_counter.keys(),\n",
    "        'number':words_counter.values(),\n",
    "    })"
   ]
  },
  {
   "cell_type": "code",
   "execution_count": 23,
   "metadata": {},
   "outputs": [
    {
     "data": {
      "text/html": [
       "<div>\n",
       "<style scoped>\n",
       "    .dataframe tbody tr th:only-of-type {\n",
       "        vertical-align: middle;\n",
       "    }\n",
       "\n",
       "    .dataframe tbody tr th {\n",
       "        vertical-align: top;\n",
       "    }\n",
       "\n",
       "    .dataframe thead th {\n",
       "        text-align: right;\n",
       "    }\n",
       "</style>\n",
       "<table border=\"1\" class=\"dataframe\">\n",
       "  <thead>\n",
       "    <tr style=\"text-align: right;\">\n",
       "      <th></th>\n",
       "      <th>word</th>\n",
       "      <th>number</th>\n",
       "    </tr>\n",
       "  </thead>\n",
       "  <tbody>\n",
       "    <tr>\n",
       "      <th>5</th>\n",
       "      <td>de</td>\n",
       "      <td>90</td>\n",
       "    </tr>\n",
       "    <tr>\n",
       "      <th>2</th>\n",
       "      <td>het</td>\n",
       "      <td>38</td>\n",
       "    </tr>\n",
       "    <tr>\n",
       "      <th>110</th>\n",
       "      <td>dat</td>\n",
       "      <td>38</td>\n",
       "    </tr>\n",
       "    <tr>\n",
       "      <th>13</th>\n",
       "      <td>en</td>\n",
       "      <td>37</td>\n",
       "    </tr>\n",
       "    <tr>\n",
       "      <th>4</th>\n",
       "      <td>van</td>\n",
       "      <td>33</td>\n",
       "    </tr>\n",
       "    <tr>\n",
       "      <th>...</th>\n",
       "      <td>...</td>\n",
       "      <td>...</td>\n",
       "    </tr>\n",
       "    <tr>\n",
       "      <th>217</th>\n",
       "      <td>gehouden</td>\n",
       "      <td>3</td>\n",
       "    </tr>\n",
       "    <tr>\n",
       "      <th>8</th>\n",
       "      <td>journaal</td>\n",
       "      <td>3</td>\n",
       "    </tr>\n",
       "    <tr>\n",
       "      <th>218</th>\n",
       "      <td>zweden</td>\n",
       "      <td>3</td>\n",
       "    </tr>\n",
       "    <tr>\n",
       "      <th>129</th>\n",
       "      <td>omdat</td>\n",
       "      <td>3</td>\n",
       "    </tr>\n",
       "    <tr>\n",
       "      <th>397</th>\n",
       "      <td>mn</td>\n",
       "      <td>3</td>\n",
       "    </tr>\n",
       "  </tbody>\n",
       "</table>\n",
       "<p>100 rows × 2 columns</p>\n",
       "</div>"
      ],
      "text/plain": [
       "         word  number\n",
       "5          de      90\n",
       "2         het      38\n",
       "110       dat      38\n",
       "13         en      37\n",
       "4         van      33\n",
       "..        ...     ...\n",
       "217  gehouden       3\n",
       "8    journaal       3\n",
       "218    zweden       3\n",
       "129     omdat       3\n",
       "397        mn       3\n",
       "\n",
       "[100 rows x 2 columns]"
      ]
     },
     "execution_count": 23,
     "metadata": {},
     "output_type": "execute_result"
    }
   ],
   "source": [
    "count_df.sort_values('number',ascending=False).head(100)"
   ]
  },
  {
   "cell_type": "code",
   "execution_count": null,
   "metadata": {},
   "outputs": [],
   "source": []
  }
 ],
 "metadata": {
  "interpreter": {
   "hash": "40d3a090f54c6569ab1632332b64b2c03c39dcf918b08424e98f38b5ae0af88f"
  },
  "kernelspec": {
   "display_name": "Python 3.8.5 64-bit ('base': conda)",
   "language": "python",
   "name": "python3"
  },
  "language_info": {
   "codemirror_mode": {
    "name": "ipython",
    "version": 3
   },
   "file_extension": ".py",
   "mimetype": "text/x-python",
   "name": "python",
   "nbconvert_exporter": "python",
   "pygments_lexer": "ipython3",
   "version": "3.8.5"
  },
  "orig_nbformat": 4
 },
 "nbformat": 4,
 "nbformat_minor": 2
}
